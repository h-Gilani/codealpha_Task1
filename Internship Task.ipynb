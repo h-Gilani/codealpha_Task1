{
 "cells": [
  {
   "cell_type": "markdown",
   "id": "ef0e423f-eb00-4159-b0c8-3497e4904176",
   "metadata": {},
   "source": [
    "Import Libraries and Load data"
   ]
  },
  {
   "cell_type": "code",
   "execution_count": 11,
   "id": "c03170d2-b007-40ef-a718-b42419e4ed7d",
   "metadata": {},
   "outputs": [],
   "source": [
    "# Import necessary libraries\n",
    "import pandas as pd\n",
    "import numpy as np\n",
    "from sklearn.preprocessing import StandardScaler\n",
    "from sklearn.ensemble import RandomForestClassifier\n",
    "import joblib\n",
    "\n",
    "# Load the dataset\n",
    "data = pd.read_csv('train.csv')\n"
   ]
  },
  {
   "cell_type": "markdown",
   "id": "d13461c3-8274-42d7-9a08-eaf3436e604d",
   "metadata": {},
   "source": [
    "Data Processing"
   ]
  },
  {
   "cell_type": "code",
   "execution_count": 12,
   "id": "01c26093-613e-4f71-b601-21b9c965b5ee",
   "metadata": {},
   "outputs": [],
   "source": [
    "# Fill missing values\n",
    "data['Age'].fillna(data['Age'].median(), inplace=True)\n",
    "data['Embarked'].fillna(data['Embarked'].mode()[0], inplace=True)\n",
    "data['Fare'].fillna(data['Fare'].median(), inplace=True)\n",
    "\n",
    "# Drop the 'Cabin' column due to too many missing values\n",
    "data.drop(columns=['Cabin'], inplace=True)\n",
    "\n",
    "# Convert categorical variables to numerical\n",
    "data['Sex'] = data['Sex'].map({'male': 0, 'female': 1})\n",
    "data = pd.get_dummies(data, columns=['Embarked'], drop_first=True)\n",
    "\n",
    "# Keep 'Name' and 'Sex' columns for later use\n",
    "names = data['Name']\n",
    "genders = data['Sex']  # 0 for male, 1 for female\n",
    "\n",
    "# Drop unnecessary columns except 'Name', 'Sex'\n",
    "data.drop(columns=['Ticket', 'PassengerId'], inplace=True)\n",
    "\n",
    "# Ensure the features are in the correct order\n",
    "required_columns = ['Pclass', 'Sex', 'Age', 'Fare', 'SibSp', 'Parch', 'Embarked_Q', 'Embarked_S']\n",
    "X = data[required_columns]\n",
    "y = data['Survived']\n"
   ]
  },
  {
   "cell_type": "markdown",
   "id": "a54a72d3-5b39-460b-9250-7c7c37cb897d",
   "metadata": {},
   "source": [
    "Load Model and Make Predictions"
   ]
  },
  {
   "cell_type": "code",
   "execution_count": 13,
   "id": "c4b14005-cd27-4f07-9ce2-25bbea8b5c27",
   "metadata": {},
   "outputs": [
    {
     "name": "stdout",
     "output_type": "stream",
     "text": [
      "                                                Name  Gender  Survived  \\\n",
      "0                            Braund, Mr. Owen Harris    male         0   \n",
      "1  Cumings, Mrs. John Bradley (Florence Briggs Th...  female         1   \n",
      "2                             Heikkinen, Miss. Laina  female         1   \n",
      "3       Futrelle, Mrs. Jacques Heath (Lily May Peel)  female         1   \n",
      "4                           Allen, Mr. William Henry    male         0   \n",
      "5                                   Moran, Mr. James    male         0   \n",
      "6                            McCarthy, Mr. Timothy J    male         0   \n",
      "7                     Palsson, Master. Gosta Leonard    male         0   \n",
      "8  Johnson, Mrs. Oscar W (Elisabeth Vilhelmina Berg)  female         1   \n",
      "9                Nasser, Mrs. Nicholas (Adele Achem)  female         1   \n",
      "\n",
      "   Survived_Prediction  \n",
      "0                    0  \n",
      "1                    1  \n",
      "2                    1  \n",
      "3                    1  \n",
      "4                    0  \n",
      "5                    0  \n",
      "6                    0  \n",
      "7                    0  \n",
      "8                    1  \n",
      "9                    1  \n"
     ]
    }
   ],
   "source": [
    "# Load the trained model\n",
    "rf_clf = joblib.load('random_forest_model.pkl')\n",
    "\n",
    "# Make predictions on the entire dataset\n",
    "y_pred = rf_clf.predict(X_scaled)\n",
    "\n",
    "# Add names, genders, actual, and predicted survival status to the original dataframe\n",
    "results = pd.DataFrame({\n",
    "    'Name': names,\n",
    "    'Gender': genders,\n",
    "    'Survived': y,\n",
    "    'Survived_Prediction': y_pred\n",
    "})\n",
    "\n",
    "# Map gender back to string values\n",
    "results['Gender'] = results['Gender'].map({0: 'male', 1: 'female'})\n",
    "\n",
    "# Display the first few rows with predictions\n",
    "print(results.head(10))\n"
   ]
  },
  {
   "cell_type": "code",
   "execution_count": null,
   "id": "517be768-9c28-4856-a779-a5c5a3f93acc",
   "metadata": {},
   "outputs": [],
   "source": []
  }
 ],
 "metadata": {
  "kernelspec": {
   "display_name": "Python 3 (ipykernel)",
   "language": "python",
   "name": "python3"
  },
  "language_info": {
   "codemirror_mode": {
    "name": "ipython",
    "version": 3
   },
   "file_extension": ".py",
   "mimetype": "text/x-python",
   "name": "python",
   "nbconvert_exporter": "python",
   "pygments_lexer": "ipython3",
   "version": "3.11.7"
  }
 },
 "nbformat": 4,
 "nbformat_minor": 5
}
